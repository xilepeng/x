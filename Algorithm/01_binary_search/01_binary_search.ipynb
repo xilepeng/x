{
 "nbformat": 4,
 "nbformat_minor": 2,
 "metadata": {
  "language_info": {
   "name": "python",
   "codemirror_mode": {
    "name": "ipython",
    "version": 3
   },
   "version": "3.7.3"
  },
  "orig_nbformat": 2,
  "file_extension": ".py",
  "mimetype": "text/x-python",
  "name": "python",
  "npconvert_exporter": "python",
  "pygments_lexer": "ipython3",
  "version": 3
 },
 "cells": [
  {
   "cell_type": "code",
   "execution_count": 1,
   "metadata": {},
   "outputs": [
    {
     "data": {
      "text/plain": "1"
     },
     "execution_count": 1,
     "metadata": {},
     "output_type": "execute_result"
    }
   ],
   "source": [
    "# 1 在旋转有序数组中查找最小值\n",
    "alist = [3, 4, 5, 6, 1, 2]\n",
    "\n",
    "# O(nlgn)\n",
    "def searchlazy(alist):\n",
    "    alist.sort()\n",
    "    return alist[0]\n",
    "\n",
    "# O(n)\n",
    "def searchslow(alist):\n",
    "    # return min(alist)\n",
    "    mmin = alist[0]\n",
    "    for value in alist:\n",
    "        mmin = min(mmin, value)\n",
    "    return mmin \n",
    "\n",
    "# O(lg n)\n",
    "def search(alist):\n",
    "    if len(alist) == 0:\n",
    "        return -1\n",
    "    left, right = 0, len(alist)-1\n",
    "    while left + 1 < right:\n",
    "        if alist[left] < alist[right]:  #有序\n",
    "            return alist[left]\n",
    "        mid = left + (right - left) // 2\n",
    "        if alist[mid] >= alist[left]:\n",
    "            left = mid + 1\n",
    "        else:\n",
    "            right = mid\n",
    "    return alist[left] if alist[left] < alist[right] else alist[right]  #LR相邻\n",
    "\n",
    "search(alist)"
   ]
  },
  {
   "cell_type": "code",
   "metadata": {},
   "outputs": [],
   "source": [
    "# 2 在旋转数组中查找\n",
    "nums = [6, 7, 1, 2, 3, 4, 5]\n",
    "\n",
    "# O(lgn)\n",
    "def search(nums, target):\n",
    "    \n",
    "\n",
    "\n",
    "\n",
    "\n",
    "\n",
    "\n",
    "\n",
    "\n",
    "\n",
    "\n",
    "\n",
    "\n",
    "\n"
   ]
  },
  {
   "cell_type": "code",
   "metadata": {},
   "outputs": [],
   "source": [
    "# 3 搜索插入位置"
   ]
  }
 ]
}