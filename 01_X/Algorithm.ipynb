{
 "cells": [
  {
   "cell_type": "markdown",
   "metadata": {},
   "source": [
    "O(1)"
   ]
  },
  {
   "cell_type": "code",
   "execution_count": 1,
   "metadata": {},
   "outputs": [
    {
     "data": {
      "text/plain": [
       "90000000000000000000000"
      ]
     },
     "execution_count": 1,
     "metadata": {},
     "output_type": "execute_result"
    }
   ],
   "source": [
    "def square(x):\n",
    "    return x * x\n",
    "square(300000000000)"
   ]
  },
  {
   "cell_type": "markdown",
   "metadata": {},
   "source": [
    "O(n)"
   ]
  },
  {
   "cell_type": "code",
   "execution_count": 2,
   "metadata": {},
   "outputs": [
    {
     "data": {
      "text/plain": [
       "8"
      ]
     },
     "execution_count": 2,
     "metadata": {},
     "output_type": "execute_result"
    }
   ],
   "source": [
    "def find_max(l):\n",
    "    if l == None:\n",
    "        return None\n",
    "    mx = l[0]\n",
    "    for n in l:\n",
    "        if n > mx:\n",
    "            mx = n\n",
    "    return mx\n",
    "\n",
    "l = [3, 5, 1, 8, 0, 1, 8]\n",
    "find_max(l)"
   ]
  },
  {
   "cell_type": "markdown",
   "metadata": {},
   "source": [
    "O(N^2)"
   ]
  },
  {
   "cell_type": "code",
   "execution_count": 3,
   "metadata": {},
   "outputs": [
    {
     "data": {
      "text/plain": [
       "(2, 5)"
      ]
     },
     "execution_count": 3,
     "metadata": {},
     "output_type": "execute_result"
    }
   ],
   "source": [
    "def has_duplicate(l):\n",
    "    for i in range(len(l)):\n",
    "        for j in range(i+1, len(l)):\n",
    "            if l[i] == l[j]:\n",
    "                return i, j         \n",
    "    return False\n",
    "            \n",
    "has_duplicate(l)"
   ]
  },
  {
   "cell_type": "markdown",
   "metadata": {},
   "source": [
    "### fib"
   ]
  },
  {
   "cell_type": "code",
   "execution_count": 10,
   "metadata": {},
   "outputs": [
    {
     "name": "stdout",
     "output_type": "stream",
     "text": [
      "9227465\n"
     ]
    }
   ],
   "source": [
    "def fib(n):\n",
    "    if n == 0:\n",
    "        return 0\n",
    "    elif n == 1:\n",
    "        return 1\n",
    "    return fib(n - 1) + fib(n - 2)\n",
    "\n",
    "\n",
    "print(fib(35))"
   ]
  },
  {
   "cell_type": "code",
   "execution_count": 12,
   "metadata": {},
   "outputs": [
    {
     "data": {
      "text/plain": [
       "9227465"
      ]
     },
     "execution_count": 12,
     "metadata": {},
     "output_type": "execute_result"
    }
   ],
   "source": [
    "def fib2(n):\n",
    "    assert(n >= 0)\n",
    "    a, b = 0, 1\n",
    "    for i in range(1, n + 1):\n",
    "        a, b = b, a+b\n",
    "    return a\n",
    "\n",
    "fib2(35)"
   ]
  },
  {
   "cell_type": "code",
   "execution_count": 13,
   "metadata": {},
   "outputs": [
    {
     "data": {
      "text/plain": [
       "(9227465, 5702887)"
      ]
     },
     "execution_count": 13,
     "metadata": {},
     "output_type": "execute_result"
    }
   ],
   "source": [
    "def fib3(n):\n",
    "    assert(n >= 0)\n",
    "    if n <= 1:\n",
    "        return (n, 0)\n",
    "    (a, b) = fib3(n - 1)\n",
    "    return (a + b, a)\n",
    "\n",
    "fib3(35)"
   ]
  },
  {
   "cell_type": "markdown",
   "metadata": {},
   "source": [
    "### Search"
   ]
  },
  {
   "cell_type": "code",
   "execution_count": 14,
   "metadata": {},
   "outputs": [],
   "source": [
    "def search(num_list, val):\n",
    "    if num_list == None:\n",
    "        return -1\n",
    "    \n",
    "    for i in range(0, len(num_list)):\n",
    "        if num_list[i] == val:\n",
    "            return i\n",
    "    return -1"
   ]
  },
  {
   "cell_type": "code",
   "execution_count": 15,
   "metadata": {},
   "outputs": [
    {
     "name": "stdout",
     "output_type": "stream",
     "text": [
      "1\n",
      "-1\n"
     ]
    }
   ],
   "source": [
    "num_list = [1, 2, 4, 6, 7, 9]\n",
    "print(search(num_list, 2))\n",
    "print(search(num_list, 0))"
   ]
  },
  {
   "cell_type": "markdown",
   "metadata": {},
   "source": [
    "### Binary Search"
   ]
  },
  {
   "cell_type": "code",
   "execution_count": 20,
   "metadata": {},
   "outputs": [],
   "source": [
    "def binary_search(num_list, val):\n",
    "    l, r = 0, len(num_list)\n",
    "    while(l <= r):\n",
    "        mid = (l + r) // 2\n",
    "        if num_list[mid] == val:\n",
    "            return mid\n",
    "        elif num_list[mid] < val:\n",
    "            l = mid + 1\n",
    "        else:\n",
    "            r = mid - 1\n",
    "    return -1\n",
    "            "
   ]
  },
  {
   "cell_type": "code",
   "execution_count": 21,
   "metadata": {},
   "outputs": [
    {
     "name": "stdout",
     "output_type": "stream",
     "text": [
      "1\n",
      "-1\n"
     ]
    }
   ],
   "source": [
    "num_list = [1, 2, 4, 6, 7, 9]\n",
    "print(binary_search(num_list, 2))\n",
    "print(binary_search(num_list, 0))"
   ]
  },
  {
   "cell_type": "markdown",
   "metadata": {},
   "source": [
    "### 冒泡排序 "
   ]
  },
  {
   "cell_type": "markdown",
   "metadata": {},
   "source": [
    "O(n^2)\n",
    "第1轮冒泡：把最大数放到最后"
   ]
  },
  {
   "cell_type": "code",
   "execution_count": 29,
   "metadata": {},
   "outputs": [],
   "source": [
    "def bubble_sort(num_list):\n",
    "    for i in range(len(num_list)):\n",
    "        for j in range(len(num_list) - i - 1):\n",
    "            if num_list[j] > num_list[j + 1]:\n",
    "                num_list[j], num_list[j + 1] = num_list[j + 1], num_list[j] "
   ]
  },
  {
   "cell_type": "code",
   "execution_count": 30,
   "metadata": {},
   "outputs": [
    {
     "name": "stdout",
     "output_type": "stream",
     "text": [
      "[1, 4, 6, 7, 8, 9]\n"
     ]
    }
   ],
   "source": [
    "num_list = [1, 8, 4, 6, 7, 9]\n",
    "bubble_sort(num_list)\n",
    "print(num_list)"
   ]
  },
  {
   "cell_type": "markdown",
   "metadata": {},
   "source": [
    "优化为O(n)"
   ]
  },
  {
   "cell_type": "code",
   "execution_count": 33,
   "metadata": {},
   "outputs": [],
   "source": [
    "def bubble_sort_mod(array):\n",
    "    for i in range(len(array)):\n",
    "        is_sorted = True\n",
    "        for j in range(1, len(array) - i):\n",
    "            if array[j] < array[j-1]:\n",
    "                array[j], array[j-1] = array[j-1], array[j]\n",
    "                is_sorted = False\n",
    "        if is_sorted == True:\n",
    "            break"
   ]
  },
  {
   "cell_type": "code",
   "execution_count": 36,
   "metadata": {},
   "outputs": [
    {
     "name": "stdout",
     "output_type": "stream",
     "text": [
      "[1, 4, 6, 7, 8, 9]\n"
     ]
    }
   ],
   "source": [
    "array = [1, 8, 4, 6, 7, 9]\n",
    "bubble_sort_mod(array)\n",
    "print(array)"
   ]
  },
  {
   "cell_type": "markdown",
   "metadata": {},
   "source": [
    "### 插入排序 \n",
    "O(n^2)\n",
    "从第一个开始看，从后往前一个一个比"
   ]
  },
  {
   "cell_type": "code",
   "execution_count": 47,
   "metadata": {},
   "outputs": [],
   "source": [
    "def insertion_sort(item):\n",
    "    for i in range(1, len(item)):\n",
    "        for j in range(0, i):\n",
    "            if item[i] < item[j]:\n",
    "                item[i], item[j] = item[j], item[i]"
   ]
  },
  {
   "cell_type": "code",
   "execution_count": 48,
   "metadata": {},
   "outputs": [],
   "source": [
    "def insert_sort(items):\n",
    "    for sort_inx in range(1, len(items)):\n",
    "        unsort_inx = sort_inx\n",
    "        while unsort_inx > 0 and items[unsort_inx - 1] > items[unsort_inx]:\n",
    "            items[unsort_inx - 1], items[unsort_inx] = items[unsort_inx], items[unsort_inx - 1] \n",
    "            unsort_inx = unsort_inx - 1        "
   ]
  },
  {
   "cell_type": "code",
   "execution_count": 51,
   "metadata": {},
   "outputs": [
    {
     "name": "stdout",
     "output_type": "stream",
     "text": [
      "[1, 3, 4, 6, 6, 9, 10]\n"
     ]
    }
   ],
   "source": [
    "unsort_list = [10, 6, 4, 6, 3, 9, 1]\n",
    "insertion_sort(unsort_list)\n",
    "# insert_sort(unsort_list)\n",
    "print(unsort_list)"
   ]
  },
  {
   "cell_type": "markdown",
   "metadata": {},
   "source": [
    "### 选择排序\n",
    "每次都只找到最小的（min index)，但是不交换，在第一个pass结束后交换"
   ]
  },
  {
   "cell_type": "code",
   "execution_count": 65,
   "metadata": {},
   "outputs": [],
   "source": [
    "def selection_sort(alist):\n",
    "    for i in range(len(alist)):\n",
    "        pos_min = i\n",
    "        for j in range(i + 1, len(alist)):\n",
    "            if alist[j] < alist[pos_min]:\n",
    "                pos_min = j\n",
    "        alist[i], alist[pos_min] = alist[pos_min], alist[i]"
   ]
  },
  {
   "cell_type": "code",
   "execution_count": 66,
   "metadata": {},
   "outputs": [
    {
     "name": "stdout",
     "output_type": "stream",
     "text": [
      "[1, 2, 3, 5, 5, 6, 7, 8, 9]\n"
     ]
    }
   ],
   "source": [
    "alist = [2, 6, 1, 9, 3, 5, 5, 7, 8]\n",
    "selection_sort(alist)\n",
    "print(alist)"
   ]
  },
  {
   "cell_type": "markdown",
   "metadata": {},
   "source": [
    "### Merge sort\n",
    "O(n lg n) 分成2半，合并\n",
    "l.sort() == insertion_sort() + merge_sort()\n",
    "元素小于20，insertion sort非常快，元素小于20，用insertion,最后merge\n"
   ]
  },
  {
   "cell_type": "code",
   "execution_count": 71,
   "metadata": {},
   "outputs": [
    {
     "name": "stdout",
     "output_type": "stream",
     "text": [
      "([1, 1, 0, 0], 4)\n"
     ]
    }
   ],
   "source": [
    "def _merge(a:list, b:list)->list:\n",
    "    \"\"\"merge two sorted list\"\"\"\n",
    "    c = []\n",
    "    while len(a) > 0 and len(b) > 0 :\n",
    "        if a[0] < b[0]:\n",
    "            c.append(a[0])\n",
    "            a.remove(a[0])\n",
    "        else:\n",
    "            c.append(b[0])\n",
    "            b.remove(b[0])\n",
    "    if a == 0:\n",
    "        c += b\n",
    "    else:\n",
    "        c += a\n",
    "    return c\n",
    "def _merge_sorted(nums: list) -> list:\n",
    "    # won't sort in place\n",
    "    if len(nums) <= 1 :\n",
    "        return nums\n",
    "    m = len(nums) // 2\n",
    "    a = _merge_sorted(nums[:m])\n",
    "    b = _merge_sorted(nums[m:])\n",
    "    return _merge(a, b)\n",
    "\n",
    "# Wrapper封装\n",
    "def merge_sorted(nums: list, reverse=False) ->list:\n",
    "    \"\"\"Merge Sort\"\"\"\n",
    "    nums = _merge_sorted(nums)\n",
    "    if reverse:\n",
    "        nums = nums[::-1]\n",
    "    return nums,len(nums)\n",
    "\n",
    "l = [1, 4, 2, 5, 8, 1, 0, 9, 3, 7, 8, 0]\n",
    "l = merge_sorted(l, reverse=True)\n",
    "print(l)\n",
    "        "
   ]
  },
  {
   "cell_type": "markdown",
   "metadata": {},
   "source": [
    "### Quick sort"
   ]
  },
  {
   "cell_type": "code",
   "execution_count": 9,
   "metadata": {},
   "outputs": [],
   "source": [
    "def _quick_sorted(nums:list)->list:\n",
    "    if len(nums) <= 1:\n",
    "        return nums\n",
    "    \n",
    "    pivot = nums[0]\n",
    "    left_nums = _quick_sorted([x for x in nums[1:] if x < pivot])\n",
    "    right_nums = _quick_sorted([x for x in nums[1:] if x >= pivot])\n",
    "    return left_nums + [pivot] + right_nums\n",
    "\n",
    "def quick_sorted(nums: list, reverse= False ) ->list:\n",
    "    \"\"\"quick sort\"\"\"\n",
    "    nums = _quick_sorted(nums)\n",
    "    if reverse:\n",
    "        nums = nums[::-1]\n",
    "        return nums\n",
    "\n",
    "    "
   ]
  },
  {
   "cell_type": "code",
   "execution_count": 10,
   "metadata": {},
   "outputs": [
    {
     "name": "stdout",
     "output_type": "stream",
     "text": "[1, 2, 3, 4, 6, 7, 8, 8, 9]\n[9, 8, 8, 7, 6, 4, 3, 2, 1]\n"
    }
   ],
   "source": [
    "l = [2, 3, 9, 1, 4, 7, 8, 8, 6 ]\n",
    "print(_quick_sorted(l))\n",
    "l = quick_sorted(l, reverse = True)\n",
    "print(l)\n"
   ]
  },
  {
   "cell_type": "code",
   "execution_count": null,
   "metadata": {},
   "outputs": [],
   "source": []
  }
 ],
 "metadata": {
  "kernelspec": {
   "display_name": "Python 3",
   "language": "python",
   "name": "python3"
  },
  "language_info": {
   "codemirror_mode": {
    "name": "ipython",
    "version": 3
   },
   "file_extension": ".py",
   "mimetype": "text/x-python",
   "name": "python",
   "nbconvert_exporter": "python",
   "pygments_lexer": "ipython3",
   "version": "3.7.3"
  }
 },
 "nbformat": 4,
 "nbformat_minor": 2
}